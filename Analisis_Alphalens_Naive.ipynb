{
 "cells": [
  {
   "cell_type": "code",
   "execution_count": 40,
   "metadata": {},
   "outputs": [],
   "source": [
    "from quantopian.pipeline import Pipeline, CustomFactor\n",
    "from quantopian.pipeline.data import Fundamentals\n",
    "from quantopian.pipeline.data.builtin import USEquityPricing\n",
    "from quantopian.pipeline.filters import QTradableStocksUS\n",
    "from quantopian.optimize import TargetWeights\n",
    "from quantopian.pipeline.factors import Returns\n",
    "\n",
    "\n",
    "# The basics\n",
    "import pandas as pd\n",
    "import numpy as np\n",
    "from sklearn.tree import DecisionTreeClassifier\n",
    "from collections import OrderedDict\n",
    "from quantopian.research import run_pipeline\n",
    "\n",
    "from alphalens.tears import create_information_tear_sheet\n",
    "from alphalens.utils import get_clean_factor_and_forward_returns\n",
    "import alphalens\n",
    "import random as rd"
   ]
  },
  {
   "cell_type": "code",
   "execution_count": 41,
   "metadata": {},
   "outputs": [],
   "source": [
    "num_holding_days = 5 # holding our stocks for five trading days.\n",
    "days_for_fundamentals_analysis = 30\n",
    "upper_percentile = 70\n",
    "lower_percentile = 100 - upper_percentile\n",
    "\n",
    "MAX_GROSS_EXPOSURE = 1.0\n",
    "MAX_POSITION_CONCENTRATION = 0.05\n",
    "\n",
    "MAX_GROSS_LEVERAGE = 1.0\n",
    "TOTAL_POSITIONS = 300"
   ]
  },
  {
   "cell_type": "code",
   "execution_count": 68,
   "metadata": {},
   "outputs": [],
   "source": [
    "class Momentum(CustomFactor):\n",
    "    # Default inputs\n",
    "    inputs = [USEquityPricing.close]\n",
    "\n",
    "    # Compute momentum\n",
    "    def compute(self, today, assets, out, close):\n",
    "        out[:] = close[-1] / close[0]\n",
    "        \n",
    "class Average_True_Range(CustomFactor):  \n",
    "    inputs = [USEquityPricing.close, USEquityPricing.high, USEquityPricing.low]  \n",
    "    window_length = 15  \n",
    "    def compute(self, today, assets, out, close, high, low):  \n",
    "        lb = self.window_length  \n",
    "        atr = np.zeros(len(assets), dtype=np.float64)  \n",
    "        a=np.array(([high[1:(lb)]-low[1:(lb)],abs(high[1:(lb)]-close[0:(lb-1)]),abs(low[1:(lb)]-close[0:(lb-1)])]))  \n",
    "        b=a.T.max(axis=2)  \n",
    "        c=b.sum(axis=1)  \n",
    "        atr=c /(lb-1)\n",
    "\n",
    "        out[:] = atr  \n",
    "\n",
    "class Predictor(CustomFactor):\n",
    "    \"\"\" Defines our machine learning model. \"\"\"\n",
    "    \n",
    "    # The factors that we want to pass to the compute function. We use an ordered dict for clear labeling of our inputs.\n",
    "    factor_dict = OrderedDict()\n",
    "    factor_dict['Volume'] =USEquityPricing.volume\n",
    "    factor_dict['earning_yield'] = Fundamentals.earning_yield\n",
    "    factor_dict['cash_return'] = Fundamentals.cash_return\n",
    "    factor_dict['Asset_Growth_2d'] = Returns(window_length=2)\n",
    "    factor_dict['Asset_Growth_3d'] = Returns(window_length=3)\n",
    "    factor_dict['Asset_Growth_4d'] = Returns(window_length=4)\n",
    "    factor_dict['style_score'] = Fundamentals.style_score\n",
    "    factor_dict['value_score'] = Fundamentals.value_score\n",
    "    factor_dict['Return'] =  Returns(inputs=[USEquityPricing.open],window_length=5)\n",
    "    \n",
    "    columns = factor_dict.keys()\n",
    "    inputs = factor_dict.values()\n",
    "\n",
    "    # Run it.\n",
    "    def compute(self, today, assets, out, *inputs):\n",
    "        \"\"\" Through trial and error, I determined that each item in the input array comes in with rows as days and securities as columns. Most recent data is at the \"-1\" index. Oldest is at 0.\n",
    "\n",
    "        !!Note!! In the below code, I'm making the somewhat peculiar choice  of \"stacking\" the data... you don't have to do that... it's just a design choice... in most cases you'll probably implement this without stacking the data.\n",
    "        \"\"\"\n",
    "\n",
    "        ## Import Data and define y.\n",
    "        inputs = OrderedDict([(self.columns[i],pd.DataFrame(inputs[i]).fillna(0,axis=1).fillna(0,axis=1)) for i in range(len(inputs))]) # bring in data with some null handling.\n",
    "        num_secs = len(inputs['Return'].columns)\n",
    "        y = inputs['Return'].shift(-num_holding_days)\n",
    "        y=y.dropna(axis=0,how='all')\n",
    "        \n",
    "        for index, row in y.iterrows():\n",
    "            \n",
    "             upper = np.nanpercentile(row, upper_percentile)            \n",
    "             lower = np.nanpercentile(row, lower_percentile)\n",
    "             auxrow = np.zeros_like(row)\n",
    "             \n",
    "             for i in range(0,len(row)):\n",
    "                if row[i] <= lower: \n",
    "                    auxrow[i] = -1\n",
    "                elif row[i] >= upper: \n",
    "                    auxrow[i] = 1 \n",
    "        \n",
    "             y.iloc[index] = auxrow\n",
    "            \n",
    "        y=y.stack(dropna=False)\n",
    "        \n",
    "        \n",
    "        ## Get rid of our y value as an input into our machine learning algorithm.\n",
    "        #del inputs['Return']\n",
    "\n",
    "        ## Munge x and y\n",
    "        x = pd.concat([df.stack(dropna=False) for df in inputs.values()], axis=1).fillna(0)\n",
    "        \n",
    "        ## Run Model\n",
    "        #model = GaussianNB() \n",
    "        model= DecisionTreeClassifier()\n",
    "        model_x = x[:-num_secs*(num_holding_days)]\n",
    "        model.fit(model_x, y)\n",
    "        \n",
    "        out[:] =  model.predict(x[-num_secs:])\n",
    "\n",
    "def make_pipeline():\n",
    "    universe = QTradableStocksUS()\n",
    "    \n",
    "    \n",
    "    #============FACTORES=======================\n",
    "    predicciones= Predictor(window_length=days_for_fundamentals_analysis, mask=universe)\n",
    "    Momentum_10=Momentum(window_length=10)\n",
    "    Average_True_Range_14=Average_True_Range(window_length=10)\n",
    "    #===========================================\n",
    "    \n",
    "    FactorC=np.array([predicciones,Momentum_10,Average_True_Range_14])\n",
    "    \n",
    "    PesoFactor=np.array([[1,1,1],[2,1,2]])\n",
    "                         \n",
    "    combined_factor = ((FactorC*PesoFactor[0,:]).sum())\n",
    "    \n",
    "    \n",
    "    longs = combined_factor.top(TOTAL_POSITIONS//2, mask=universe)\n",
    "    shorts = combined_factor.bottom(TOTAL_POSITIONS//2, mask=universe)\n",
    "\n",
    "    #The final output of our pipeline should only include\n",
    "    # the top/bottom 300 stocks by our criteria\n",
    "    long_short_screen = (longs | shorts)\n",
    "    \n",
    "    return Pipeline(columns={\n",
    "            #'Model': predicciones,\n",
    "            #'Momentum_10': Momentum_10,\n",
    "            #'ATR_14': Average_True_Range_14,\n",
    "            'Factor Combinado': combined_factor\n",
    "        },screen = long_short_screen)\n"
   ]
  },
  {
   "cell_type": "code",
   "execution_count": 69,
   "metadata": {},
   "outputs": [
    {
     "data": {
      "application/vnd.jupyter.widget-view+json": {
       "model_id": "",
       "version_major": 2,
       "version_minor": 0
      },
      "text/plain": []
     },
     "metadata": {},
     "output_type": "display_data"
    },
    {
     "data": {
      "text/html": [
       "<b>Pipeline Execution Time:</b> 5.62 Seconds"
      ],
      "text/plain": [
       "<IPython.core.display.HTML object>"
      ]
     },
     "metadata": {},
     "output_type": "display_data"
    },
    {
     "data": {
      "text/html": [
       "<div>\n",
       "<table border=\"1\" class=\"dataframe\">\n",
       "  <thead>\n",
       "    <tr style=\"text-align: right;\">\n",
       "      <th></th>\n",
       "      <th></th>\n",
       "      <th>Factor Combinado</th>\n",
       "    </tr>\n",
       "  </thead>\n",
       "  <tbody>\n",
       "    <tr>\n",
       "      <th rowspan=\"5\" valign=\"top\">2015-05-05 00:00:00+00:00</th>\n",
       "      <th>Equity(2 [ARNC])</th>\n",
       "      <td>0.384946</td>\n",
       "    </tr>\n",
       "    <tr>\n",
       "      <th>Equity(24 [AAPL])</th>\n",
       "      <td>5.192145</td>\n",
       "    </tr>\n",
       "    <tr>\n",
       "      <th>Equity(52 [ABM])</th>\n",
       "      <td>0.453878</td>\n",
       "    </tr>\n",
       "    <tr>\n",
       "      <th>Equity(166 [AES])</th>\n",
       "      <td>0.376786</td>\n",
       "    </tr>\n",
       "    <tr>\n",
       "      <th>Equity(368 [AMGN])</th>\n",
       "      <td>6.551194</td>\n",
       "    </tr>\n",
       "  </tbody>\n",
       "</table>\n",
       "</div>"
      ],
      "text/plain": [
       "                                              Factor Combinado\n",
       "2015-05-05 00:00:00+00:00 Equity(2 [ARNC])            0.384946\n",
       "                          Equity(24 [AAPL])           5.192145\n",
       "                          Equity(52 [ABM])            0.453878\n",
       "                          Equity(166 [AES])           0.376786\n",
       "                          Equity(368 [AMGN])          6.551194"
      ]
     },
     "execution_count": 69,
     "metadata": {},
     "output_type": "execute_result"
    }
   ],
   "source": [
    "result = run_pipeline(make_pipeline(), '2015-05-05', '2015-05-05')\n",
    "result.head()"
   ]
  },
  {
   "cell_type": "code",
   "execution_count": 70,
   "metadata": {},
   "outputs": [
    {
     "data": {
      "text/plain": [
       "(300, 1)"
      ]
     },
     "execution_count": 70,
     "metadata": {},
     "output_type": "execute_result"
    }
   ],
   "source": [
    "result.shape"
   ]
  },
  {
   "cell_type": "code",
   "execution_count": 71,
   "metadata": {},
   "outputs": [
    {
     "data": {
      "application/vnd.jupyter.widget-view+json": {
       "model_id": "",
       "version_major": 2,
       "version_minor": 0
      },
      "text/plain": []
     },
     "metadata": {},
     "output_type": "display_data"
    },
    {
     "data": {
      "text/html": [
       "<b>Pipeline Execution Time:</b> 4 Minutes, 42.51 Seconds"
      ],
      "text/plain": [
       "<IPython.core.display.HTML object>"
      ]
     },
     "metadata": {},
     "output_type": "display_data"
    },
    {
     "ename": "InvalidDateRange",
     "evalue": "\nSupplied start_date is later than supplied end_date:\nstart_date=2019-08-06 00:00:00\nend_date=2019-02-02 00:00:00",
     "output_type": "error",
     "traceback": [
      "\u001b[0;31m\u001b[0m",
      "\u001b[0;31mInvalidDateRange\u001b[0mTraceback (most recent call last)",
      "\u001b[0;32m<ipython-input-71-7337466d49ca>\u001b[0m in \u001b[0;36m<module>\u001b[0;34m()\u001b[0m\n\u001b[1;32m      1\u001b[0m \u001b[0mfactor_data\u001b[0m \u001b[0;34m=\u001b[0m \u001b[0mrun_pipeline\u001b[0m\u001b[0;34m(\u001b[0m\u001b[0mmake_pipeline\u001b[0m\u001b[0;34m(\u001b[0m\u001b[0;34m)\u001b[0m\u001b[0;34m,\u001b[0m \u001b[0;34m'2019-08-06'\u001b[0m\u001b[0;34m,\u001b[0m \u001b[0;34m'2020-02-02'\u001b[0m\u001b[0;34m)\u001b[0m\u001b[0;34m\u001b[0m\u001b[0m\n\u001b[0;32m----> 2\u001b[0;31m \u001b[0mpricing_data\u001b[0m \u001b[0;34m=\u001b[0m \u001b[0mget_pricing\u001b[0m\u001b[0;34m(\u001b[0m\u001b[0mfactor_data\u001b[0m\u001b[0;34m.\u001b[0m\u001b[0mindex\u001b[0m\u001b[0;34m.\u001b[0m\u001b[0mlevels\u001b[0m\u001b[0;34m[\u001b[0m\u001b[0;36m1\u001b[0m\u001b[0;34m]\u001b[0m\u001b[0;34m,\u001b[0m \u001b[0;34m'2019-08-06'\u001b[0m\u001b[0;34m,\u001b[0m \u001b[0;34m'2019-02-02'\u001b[0m\u001b[0;34m,\u001b[0m \u001b[0mfields\u001b[0m\u001b[0;34m=\u001b[0m\u001b[0;34m'open_price'\u001b[0m\u001b[0;34m)\u001b[0m\u001b[0;34m\u001b[0m\u001b[0m\n\u001b[0m\u001b[1;32m      3\u001b[0m \u001b[0mmerged_data\u001b[0m \u001b[0;34m=\u001b[0m \u001b[0mget_clean_factor_and_forward_returns\u001b[0m\u001b[0;34m(\u001b[0m\u001b[0mfactor_data\u001b[0m\u001b[0;34m,\u001b[0m \u001b[0mpricing_data\u001b[0m\u001b[0;34m)\u001b[0m\u001b[0;34m\u001b[0m\u001b[0m\n",
      "\u001b[0;32m/build/src/qexec_repo/qexec/research/api.py\u001b[0m in \u001b[0;36mget_pricing\u001b[0;34m(symbols, start_date, end_date, symbol_reference_date, frequency, fields, handle_missing, start_offset)\u001b[0m\n\u001b[1;32m    442\u001b[0m             \u001b[0mreaders\u001b[0m\u001b[0;34m=\u001b[0m\u001b[0mreaders\u001b[0m\u001b[0;34m,\u001b[0m\u001b[0;34m\u001b[0m\u001b[0m\n\u001b[1;32m    443\u001b[0m             \u001b[0muser_id\u001b[0m\u001b[0;34m=\u001b[0m\u001b[0muser_id\u001b[0m\u001b[0;34m,\u001b[0m\u001b[0;34m\u001b[0m\u001b[0m\n\u001b[0;32m--> 444\u001b[0;31m             \u001b[0mmin_asset_data_date\u001b[0m\u001b[0;34m=\u001b[0m\u001b[0mmin_date\u001b[0m\u001b[0;34m,\u001b[0m\u001b[0;34m\u001b[0m\u001b[0m\n\u001b[0m\u001b[1;32m    445\u001b[0m         )\n\u001b[1;32m    446\u001b[0m \u001b[0;34m\u001b[0m\u001b[0m\n",
      "\u001b[0;32m/build/src/qexec_repo/qexec/research/_api.py\u001b[0m in \u001b[0;36minner_get_pricing\u001b[0;34m(symbols, start_date, end_date, symbol_reference_date, frequency, fields, handle_missing, start_offset, readers, user_id, min_asset_data_date)\u001b[0m\n\u001b[1;32m    424\u001b[0m             \u001b[0mcalendar\u001b[0m\u001b[0;34m,\u001b[0m\u001b[0;34m\u001b[0m\u001b[0m\n\u001b[1;32m    425\u001b[0m             \u001b[0mstart_offset\u001b[0m\u001b[0;34m,\u001b[0m\u001b[0;34m\u001b[0m\u001b[0m\n\u001b[0;32m--> 426\u001b[0;31m             \u001b[0mmin_asset_data_date\u001b[0m\u001b[0;34m,\u001b[0m\u001b[0;34m\u001b[0m\u001b[0m\n\u001b[0m\u001b[1;32m    427\u001b[0m         )\n\u001b[1;32m    428\u001b[0m         data_portal = readers.data_portal(\n",
      "\u001b[0;32m/build/src/qexec_repo/qexec/research/validation.py\u001b[0m in \u001b[0;36mvalidate_and_pinch_query_dates\u001b[0;34m(start_dt, end_dt, frequency, trading_calendar, start_offset, min_asset_data_date)\u001b[0m\n\u001b[1;32m    217\u001b[0m             \u001b[0mend_dt\u001b[0m\u001b[0;34m,\u001b[0m\u001b[0;34m\u001b[0m\u001b[0m\n\u001b[1;32m    218\u001b[0m             \u001b[0mlast_before_end\u001b[0m\u001b[0;34m,\u001b[0m\u001b[0;34m\u001b[0m\u001b[0m\n\u001b[0;32m--> 219\u001b[0;31m             \u001b[0;34m'day'\u001b[0m \u001b[0;32mif\u001b[0m \u001b[0mfrequency\u001b[0m \u001b[0;34m==\u001b[0m \u001b[0;34m'daily'\u001b[0m \u001b[0;32melse\u001b[0m \u001b[0;34m'minute'\u001b[0m\u001b[0;34m,\u001b[0m\u001b[0;34m\u001b[0m\u001b[0m\n\u001b[0m\u001b[1;32m    220\u001b[0m         )\n\u001b[1;32m    221\u001b[0m \u001b[0;34m\u001b[0m\u001b[0m\n",
      "\u001b[0;31mInvalidDateRange\u001b[0m: \nSupplied start_date is later than supplied end_date:\nstart_date=2019-08-06 00:00:00\nend_date=2019-02-02 00:00:00"
     ]
    }
   ],
   "source": [
    "factor_data = run_pipeline(make_pipeline(), '2019-08-06', '2020-02-02')\n",
    "pricing_data = get_pricing(factor_data.index.levels[1], '2019-08-06', '2019-02-02', fields='open_price')\n",
    "merged_data = get_clean_factor_and_forward_returns(factor_data, pricing_data)"
   ]
  },
  {
   "cell_type": "code",
   "execution_count": 57,
   "metadata": {},
   "outputs": [
    {
     "name": "stdout",
     "output_type": "stream",
     "text": [
      "1D     0.042760\n",
      "5D     0.089264\n",
      "10D    0.108449\n",
      "dtype: float64\n"
     ]
    },
    {
     "data": {
      "text/plain": [
       "0.13202330871727713"
      ]
     },
     "execution_count": 57,
     "metadata": {},
     "output_type": "execute_result"
    }
   ],
   "source": [
    "#alphalens.performance.factor_information_coefficient(merged_data).mean()\n",
    "print(alphalens.performance.mean_information_coefficient(merged_data))\n",
    "x=np.array(alphalens.performance.mean_information_coefficient(merged_data))\n",
    "x[0]+x[1]"
   ]
  },
  {
   "cell_type": "code",
   "execution_count": 62,
   "metadata": {},
   "outputs": [
    {
     "data": {
      "text/plain": [
       "<matplotlib.axes._subplots.AxesSubplot at 0x7f66b41b2550>"
      ]
     },
     "execution_count": 62,
     "metadata": {},
     "output_type": "execute_result"
    },
    {
     "data": {
      "image/png": "[encoded data removed]",
      "text/plain": [
       "<matplotlib.figure.Figure at 0x7f66ac74ead0>"
      ]
     },
     "metadata": {},
     "output_type": "display_data"
    }
   ],
   "source": [
    "from alphalens.utils import get_clean_factor_and_forward_returns\n",
    "from alphalens.performance import mean_information_coefficient\n",
    "mean_information_coefficient(merged_data).plot(title=\"IC Decay\")"
   ]
  },
  {
   "cell_type": "code",
   "execution_count": 64,
   "metadata": {},
   "outputs": [
    {
     "data": {
      "application/vnd.jupyter.widget-view+json": {
       "model_id": "",
       "version_major": 2,
       "version_minor": 0
      },
      "text/plain": []
     },
     "metadata": {},
     "output_type": "display_data"
    },
    {
     "data": {
      "text/html": [
       "<b>Pipeline Execution Time:</b> 8 Minutes, 29.28 Seconds"
      ],
      "text/plain": [
       "<IPython.core.display.HTML object>"
      ]
     },
     "metadata": {},
     "output_type": "display_data"
    },
    {
     "ename": "KeyError",
     "evalue": "'factor_to_analyze'",
     "output_type": "error",
     "traceback": [
      "\u001b[0;31m\u001b[0m",
      "\u001b[0;31mKeyError\u001b[0mTraceback (most recent call last)",
      "\u001b[0;32m<ipython-input-64-b4f1604cdd92>\u001b[0m in \u001b[0;36m<module>\u001b[0;34m()\u001b[0m\n\u001b[1;32m     13\u001b[0m \u001b[0;34m\u001b[0m\u001b[0m\n\u001b[1;32m     14\u001b[0m factor_data = get_clean_factor_and_forward_returns(\n\u001b[0;32m---> 15\u001b[0;31m     \u001b[0mpipeline_output\u001b[0m\u001b[0;34m[\u001b[0m\u001b[0;34m'factor_to_analyze'\u001b[0m\u001b[0;34m]\u001b[0m\u001b[0;34m,\u001b[0m\u001b[0;34m\u001b[0m\u001b[0m\n\u001b[0m\u001b[1;32m     16\u001b[0m     \u001b[0mpricing_data\u001b[0m\u001b[0;34m,\u001b[0m\u001b[0;34m\u001b[0m\u001b[0m\n\u001b[1;32m     17\u001b[0m     \u001b[0mperiods\u001b[0m\u001b[0;34m=\u001b[0m\u001b[0mrange\u001b[0m\u001b[0;34m(\u001b[0m\u001b[0;36m1\u001b[0m\u001b[0;34m,\u001b[0m\u001b[0;36m252\u001b[0m\u001b[0;34m,\u001b[0m\u001b[0;36m20\u001b[0m\u001b[0;34m)\u001b[0m \u001b[0;31m# Change the step to 10 or more for long look forward periods to save time\u001b[0m\u001b[0;34m\u001b[0m\u001b[0m\n",
      "\u001b[0;32m/venvs/py27/local/lib/python2.7/site-packages/pandas/core/frame.pyc\u001b[0m in \u001b[0;36m__getitem__\u001b[0;34m(self, key)\u001b[0m\n\u001b[1;32m   1995\u001b[0m             \u001b[0;32mreturn\u001b[0m \u001b[0mself\u001b[0m\u001b[0;34m.\u001b[0m\u001b[0m_getitem_multilevel\u001b[0m\u001b[0;34m(\u001b[0m\u001b[0mkey\u001b[0m\u001b[0;34m)\u001b[0m\u001b[0;34m\u001b[0m\u001b[0m\n\u001b[1;32m   1996\u001b[0m         \u001b[0;32melse\u001b[0m\u001b[0;34m:\u001b[0m\u001b[0;34m\u001b[0m\u001b[0m\n\u001b[0;32m-> 1997\u001b[0;31m             \u001b[0;32mreturn\u001b[0m \u001b[0mself\u001b[0m\u001b[0;34m.\u001b[0m\u001b[0m_getitem_column\u001b[0m\u001b[0;34m(\u001b[0m\u001b[0mkey\u001b[0m\u001b[0;34m)\u001b[0m\u001b[0;34m\u001b[0m\u001b[0m\n\u001b[0m\u001b[1;32m   1998\u001b[0m \u001b[0;34m\u001b[0m\u001b[0m\n\u001b[1;32m   1999\u001b[0m     \u001b[0;32mdef\u001b[0m \u001b[0m_getitem_column\u001b[0m\u001b[0;34m(\u001b[0m\u001b[0mself\u001b[0m\u001b[0;34m,\u001b[0m \u001b[0mkey\u001b[0m\u001b[0;34m)\u001b[0m\u001b[0;34m:\u001b[0m\u001b[0;34m\u001b[0m\u001b[0m\n",
      "\u001b[0;32m/venvs/py27/local/lib/python2.7/site-packages/pandas/core/frame.pyc\u001b[0m in \u001b[0;36m_getitem_column\u001b[0;34m(self, key)\u001b[0m\n\u001b[1;32m   2002\u001b[0m         \u001b[0;31m# get column\u001b[0m\u001b[0;34m\u001b[0m\u001b[0;34m\u001b[0m\u001b[0m\n\u001b[1;32m   2003\u001b[0m         \u001b[0;32mif\u001b[0m \u001b[0mself\u001b[0m\u001b[0;34m.\u001b[0m\u001b[0mcolumns\u001b[0m\u001b[0;34m.\u001b[0m\u001b[0mis_unique\u001b[0m\u001b[0;34m:\u001b[0m\u001b[0;34m\u001b[0m\u001b[0m\n\u001b[0;32m-> 2004\u001b[0;31m             \u001b[0;32mreturn\u001b[0m \u001b[0mself\u001b[0m\u001b[0;34m.\u001b[0m\u001b[0m_get_item_cache\u001b[0m\u001b[0;34m(\u001b[0m\u001b[0mkey\u001b[0m\u001b[0;34m)\u001b[0m\u001b[0;34m\u001b[0m\u001b[0m\n\u001b[0m\u001b[1;32m   2005\u001b[0m \u001b[0;34m\u001b[0m\u001b[0m\n\u001b[1;32m   2006\u001b[0m         \u001b[0;31m# duplicate columns & possible reduce dimensionality\u001b[0m\u001b[0;34m\u001b[0m\u001b[0;34m\u001b[0m\u001b[0m\n",
      "\u001b[0;32m/venvs/py27/local/lib/python2.7/site-packages/pandas/core/generic.pyc\u001b[0m in \u001b[0;36m_get_item_cache\u001b[0;34m(self, item)\u001b[0m\n\u001b[1;32m   1348\u001b[0m         \u001b[0mres\u001b[0m \u001b[0;34m=\u001b[0m \u001b[0mcache\u001b[0m\u001b[0;34m.\u001b[0m\u001b[0mget\u001b[0m\u001b[0;34m(\u001b[0m\u001b[0mitem\u001b[0m\u001b[0;34m)\u001b[0m\u001b[0;34m\u001b[0m\u001b[0m\n\u001b[1;32m   1349\u001b[0m         \u001b[0;32mif\u001b[0m \u001b[0mres\u001b[0m \u001b[0;32mis\u001b[0m \u001b[0mNone\u001b[0m\u001b[0;34m:\u001b[0m\u001b[0;34m\u001b[0m\u001b[0m\n\u001b[0;32m-> 1350\u001b[0;31m             \u001b[0mvalues\u001b[0m \u001b[0;34m=\u001b[0m \u001b[0mself\u001b[0m\u001b[0;34m.\u001b[0m\u001b[0m_data\u001b[0m\u001b[0;34m.\u001b[0m\u001b[0mget\u001b[0m\u001b[0;34m(\u001b[0m\u001b[0mitem\u001b[0m\u001b[0;34m)\u001b[0m\u001b[0;34m\u001b[0m\u001b[0m\n\u001b[0m\u001b[1;32m   1351\u001b[0m             \u001b[0mres\u001b[0m \u001b[0;34m=\u001b[0m \u001b[0mself\u001b[0m\u001b[0;34m.\u001b[0m\u001b[0m_box_item_values\u001b[0m\u001b[0;34m(\u001b[0m\u001b[0mitem\u001b[0m\u001b[0;34m,\u001b[0m \u001b[0mvalues\u001b[0m\u001b[0;34m)\u001b[0m\u001b[0;34m\u001b[0m\u001b[0m\n\u001b[1;32m   1352\u001b[0m             \u001b[0mcache\u001b[0m\u001b[0;34m[\u001b[0m\u001b[0mitem\u001b[0m\u001b[0;34m]\u001b[0m \u001b[0;34m=\u001b[0m \u001b[0mres\u001b[0m\u001b[0;34m\u001b[0m\u001b[0m\n",
      "\u001b[0;32m/venvs/py27/local/lib/python2.7/site-packages/pandas/core/internals.pyc\u001b[0m in \u001b[0;36mget\u001b[0;34m(self, item, fastpath)\u001b[0m\n\u001b[1;32m   3288\u001b[0m \u001b[0;34m\u001b[0m\u001b[0m\n\u001b[1;32m   3289\u001b[0m             \u001b[0;32mif\u001b[0m \u001b[0;32mnot\u001b[0m \u001b[0misnull\u001b[0m\u001b[0;34m(\u001b[0m\u001b[0mitem\u001b[0m\u001b[0;34m)\u001b[0m\u001b[0;34m:\u001b[0m\u001b[0;34m\u001b[0m\u001b[0m\n\u001b[0;32m-> 3290\u001b[0;31m                 \u001b[0mloc\u001b[0m \u001b[0;34m=\u001b[0m \u001b[0mself\u001b[0m\u001b[0;34m.\u001b[0m\u001b[0mitems\u001b[0m\u001b[0;34m.\u001b[0m\u001b[0mget_loc\u001b[0m\u001b[0;34m(\u001b[0m\u001b[0mitem\u001b[0m\u001b[0;34m)\u001b[0m\u001b[0;34m\u001b[0m\u001b[0m\n\u001b[0m\u001b[1;32m   3291\u001b[0m             \u001b[0;32melse\u001b[0m\u001b[0;34m:\u001b[0m\u001b[0;34m\u001b[0m\u001b[0m\n\u001b[1;32m   3292\u001b[0m                 \u001b[0mindexer\u001b[0m \u001b[0;34m=\u001b[0m \u001b[0mnp\u001b[0m\u001b[0;34m.\u001b[0m\u001b[0marange\u001b[0m\u001b[0;34m(\u001b[0m\u001b[0mlen\u001b[0m\u001b[0;34m(\u001b[0m\u001b[0mself\u001b[0m\u001b[0;34m.\u001b[0m\u001b[0mitems\u001b[0m\u001b[0;34m)\u001b[0m\u001b[0;34m)\u001b[0m\u001b[0;34m[\u001b[0m\u001b[0misnull\u001b[0m\u001b[0;34m(\u001b[0m\u001b[0mself\u001b[0m\u001b[0;34m.\u001b[0m\u001b[0mitems\u001b[0m\u001b[0;34m)\u001b[0m\u001b[0;34m]\u001b[0m\u001b[0;34m\u001b[0m\u001b[0m\n",
      "\u001b[0;32m/venvs/py27/local/lib/python2.7/site-packages/pandas/indexes/base.pyc\u001b[0m in \u001b[0;36mget_loc\u001b[0;34m(self, key, method, tolerance)\u001b[0m\n\u001b[1;32m   1945\u001b[0m                 \u001b[0;32mreturn\u001b[0m \u001b[0mself\u001b[0m\u001b[0;34m.\u001b[0m\u001b[0m_engine\u001b[0m\u001b[0;34m.\u001b[0m\u001b[0mget_loc\u001b[0m\u001b[0;34m(\u001b[0m\u001b[0mkey\u001b[0m\u001b[0;34m)\u001b[0m\u001b[0;34m\u001b[0m\u001b[0m\n\u001b[1;32m   1946\u001b[0m             \u001b[0;32mexcept\u001b[0m \u001b[0mKeyError\u001b[0m\u001b[0;34m:\u001b[0m\u001b[0;34m\u001b[0m\u001b[0m\n\u001b[0;32m-> 1947\u001b[0;31m                 \u001b[0;32mreturn\u001b[0m \u001b[0mself\u001b[0m\u001b[0;34m.\u001b[0m\u001b[0m_engine\u001b[0m\u001b[0;34m.\u001b[0m\u001b[0mget_loc\u001b[0m\u001b[0;34m(\u001b[0m\u001b[0mself\u001b[0m\u001b[0;34m.\u001b[0m\u001b[0m_maybe_cast_indexer\u001b[0m\u001b[0;34m(\u001b[0m\u001b[0mkey\u001b[0m\u001b[0;34m)\u001b[0m\u001b[0;34m)\u001b[0m\u001b[0;34m\u001b[0m\u001b[0m\n\u001b[0m\u001b[1;32m   1948\u001b[0m \u001b[0;34m\u001b[0m\u001b[0m\n\u001b[1;32m   1949\u001b[0m         \u001b[0mindexer\u001b[0m \u001b[0;34m=\u001b[0m \u001b[0mself\u001b[0m\u001b[0;34m.\u001b[0m\u001b[0mget_indexer\u001b[0m\u001b[0;34m(\u001b[0m\u001b[0;34m[\u001b[0m\u001b[0mkey\u001b[0m\u001b[0;34m]\u001b[0m\u001b[0;34m,\u001b[0m \u001b[0mmethod\u001b[0m\u001b[0;34m=\u001b[0m\u001b[0mmethod\u001b[0m\u001b[0;34m,\u001b[0m \u001b[0mtolerance\u001b[0m\u001b[0;34m=\u001b[0m\u001b[0mtolerance\u001b[0m\u001b[0;34m)\u001b[0m\u001b[0;34m\u001b[0m\u001b[0m\n",
      "\u001b[0;32mpandas/index.pyx\u001b[0m in \u001b[0;36mpandas.index.IndexEngine.get_loc (pandas/index.c:4154)\u001b[0;34m()\u001b[0m\n",
      "\u001b[0;32mpandas/index.pyx\u001b[0m in \u001b[0;36mpandas.index.IndexEngine.get_loc (pandas/index.c:4018)\u001b[0;34m()\u001b[0m\n",
      "\u001b[0;32mpandas/hashtable.pyx\u001b[0m in \u001b[0;36mpandas.hashtable.PyObjectHashTable.get_item (pandas/hashtable.c:12368)\u001b[0;34m()\u001b[0m\n",
      "\u001b[0;32mpandas/hashtable.pyx\u001b[0m in \u001b[0;36mpandas.hashtable.PyObjectHashTable.get_item (pandas/hashtable.c:12322)\u001b[0;34m()\u001b[0m\n",
      "\u001b[0;31mKeyError\u001b[0m: 'factor_to_analyze'"
     ]
    }
   ],
   "source": [
    "pipeline_output = run_pipeline(\n",
    "    make_pipeline(),\n",
    "    start_date='2013-1-1', \n",
    "    end_date='2014-1-1' #  *** NOTE *** Our factor data ends in 2014\n",
    ")\n",
    "\n",
    "pricing_data = get_pricing(\n",
    "    pipeline_output.index.levels[1], \n",
    "    start_date='2013-1-1',\n",
    "    end_date='2015-2-1', # *** NOTE *** Our pricing data ends in 2015\n",
    "    fields='open_price'\n",
    ")\n",
    "\n",
    "factor_data = get_clean_factor_and_forward_returns(\n",
    "    pipeline_output['factor_to_analyze'], \n",
    "    pricing_data,\n",
    "    periods=range(1,252,20) # Change the step to 10 or more for long look forward periods to save time\n",
    ")\n",
    "\n",
    "mean_information_coefficient(factor_data).plot()"
   ]
  },
  {
   "cell_type": "code",
   "execution_count": null,
   "metadata": {},
   "outputs": [],
   "source": [
    "from alphalens.tears import create_returns_tear_sheet\n",
    "\n",
    "sector_labels, sector_labels[-1] = dict(Sector.SECTOR_NAMES), \"Unknown\"\n",
    "\n",
    "factor_data = get_clean_factor_and_forward_returns(\n",
    "    factor=pipeline_output['factor_to_analyze'],\n",
    "    prices=pricing_data,\n",
    "    groupby=pipeline_output['sector'],\n",
    "    groupby_labels=sector_labels,\n",
    ")\n",
    "\n",
    "create_returns_tear_sheet(factor_data=factor_data, by_group=True)"
   ]
  }
 ],
 "metadata": {
  "kernelspec": {
   "display_name": "Python 2.7 (deprecated)",
   "language": "python",
   "name": "python2"
  },
  "language_info": {
   "codemirror_mode": {
    "name": "ipython",
    "version": 2
   },
   "file_extension": ".py",
   "mimetype": "text/x-python",
   "name": "python",
   "nbconvert_exporter": "python",
   "pygments_lexer": "ipython2",
   "version": "2.7.17"
  }
 },
 "nbformat": 4,
 "nbformat_minor": 2
}