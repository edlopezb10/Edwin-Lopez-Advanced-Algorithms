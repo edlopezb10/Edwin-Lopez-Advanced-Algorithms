{
 "cells": [
  {
   "cell_type": "markdown",
   "metadata": {},
   "source": [
    "# Naive Bayes High Low Return Prediction Analysis based on Thomas Wiecki 's Post\n",
    "**German Hernandez**\n",
    "\n",
    "Based on the post [Machine Learning on Quantopian - Thomas Wiecki ](https://www.quantopian.com/posts/machine-learning-on-quantopian) in Quantopian\n",
    "\n",
    "This Notebook uses a **Gaussian Naive Bayes model** to predict if a stock will have a return **n_fwd_days** after that will be in the  **top percentile% of returns (class 1)** of the **lower  percentile% (class -1)** using as input variables the returns of 1,2,3,,4,5,6,7,8,9 and 10 days before ."
   ]
  },
  {
   "cell_type": "code",
   "execution_count": 1,
   "metadata": {},
   "outputs": [],
   "source": [
    "n_fwd_days = 5 # number of days to compute returns over\n",
    "\n",
    "percentile = 25 # target percetile of the prediction"
   ]
  },
  {
   "cell_type": "markdown",
   "metadata": {},
   "source": [
    "We use dayly returns of the good quality Quantopian tradable stocks [QTradableStocksUS()](https://www.quantopian.com/posts/working-on-our-best-universe-yet-qtradablestocksus) in a period of between the **start** and **end** dates."
   ]
  },
  {
   "cell_type": "code",
   "execution_count": 5,
   "metadata": {},
   "outputs": [],
   "source": [
    "from quantopian.pipeline.filters import QTradableStocksUS\n",
    "universe = QTradableStocksUS()\n",
    "from quantopian.pipeline import Pipeline, CustomFactor\n",
    "from quantopian.pipeline.data import Fundamentals\n",
    "from quantopian.pipeline.data.builtin import USEquityPricing\n",
    "from quantopian.pipeline.filters import QTradableStocksUS\n",
    "from quantopian.optimize import TargetWeights\n",
    "from quantopian.pipeline.factors import Returns\n",
    "\n",
    "\n",
    "import pandas as pd\n",
    "start = pd.Timestamp(\"2018-05-26\")\n",
    "end = pd.Timestamp(\"2018-09-26\")"
   ]
  },
  {
   "cell_type": "markdown",
   "metadata": {},
   "source": [
    "We use the [Quantopian Pipeline API](https://www.quantopian.com/tutorials/pipeline) that allows to build preprocesing filters form multiple stokcs to calcute the decision variables that we want use in trading algorithm.\n",
    "\n",
    "We import the **Returns** function form pipeline because our input variables are past returns and our predicted class depends on the n_fwd_days ahead return."
   ]
  },
  {
   "cell_type": "markdown",
   "metadata": {},
   "source": [
    "## Building the training and testing data set"
   ]
  },
  {
   "cell_type": "code",
   "execution_count": 6,
   "metadata": {},
   "outputs": [],
   "source": [
    "from quantopian.pipeline.factors import Returns"
   ]
  },
  {
   "cell_type": "markdown",
   "metadata": {},
   "source": [
    "We define the function **make_factors()** that define the fucntions that will calculate the input variables for the classfication, in Quantopian the input variables used to make decision in trading algorithsm are called **factors**\n",
    "\n",
    "We define a function inside make_factors() for ecah one of the  1,2,3,,4,5,6,7,8,9 and 10 previous returns that we are using as input variables, in order to to this we call Returns(), one of the [Built-in Factors](https://www.quantopian.com/help#module-quantopian_pipeline_factors) in the the [Quantopian Pipeline API] Returns is only called with window_lengt parameter(number of days of caculate te return)  so is using the default inputs= [USEquityPricing.close] but returns can be used other inputs like inputs=[USEquityPricing.open]\n",
    "\n",
    "The function **make_factors()** returns a list of names and pinter to the fucntions that will be used to buld the pipeline that calculates the input variables."
   ]
  },
  {
   "cell_type": "code",
   "execution_count": 26,
   "metadata": {},
   "outputs": [
    {
     "data": {
      "text/plain": [
       "{'Asset_Growth_2d': <function __main__.Asset_Growth_2d>,\n",
       " 'Asset_Growth_3d': <function __main__.Asset_Growth_2d>,\n",
       " 'Asset_Growth_4d': <function __main__.Asset_Growth_4d>,\n",
       " 'Return': <function __main__.Return>,\n",
       " 'Volume': <function __main__.Volume>,\n",
       " 'cash_return': <function __main__.cash_return>,\n",
       " 'earning_yield': <function __main__.earning_yield>,\n",
       " 'style_score': <function __main__.style_score>,\n",
       " 'value_score': <function __main__.value_score>}"
      ]
     },
     "execution_count": 26,
     "metadata": {},
     "output_type": "execute_result"
    }
   ],
   "source": [
    "def make_factors():\n",
    "    def Volume():\n",
    "        return USEquityPricing.volume.latest\n",
    "    def earning_yield():\n",
    "        return Fundamentals.earning_yield.latest\n",
    "    def cash_return():\n",
    "        return Returns(window_length=2)\n",
    "    def Asset_Growth_2d():\n",
    "        return Returns(window_length=3)\n",
    "    def Asset_Growth_3d():\n",
    "        return Returns(window_length=4)\n",
    "    def Asset_Growth_4d():\n",
    "        return Returns(window_length=7)\n",
    "    def style_score():\n",
    "        return Fundamentals.style_score.latest\n",
    "    def value_score():\n",
    "        return Fundamentals.value_score.latest\n",
    "    def Return():\n",
    "        return Returns(inputs=[USEquityPricing.open],window_length=5)\n",
    "        \n",
    "    all_factors = {\n",
    "        'Volume': Volume,\n",
    "        'earning_yield': earning_yield,\n",
    "        'cash_return': cash_return,\n",
    "        'Asset_Growth_2d': Asset_Growth_2d,\n",
    "        'Asset_Growth_3d': Asset_Growth_2d,\n",
    "        'Asset_Growth_4d': Asset_Growth_4d,\n",
    "        'style_score': style_score,\n",
    "        'value_score': value_score,\n",
    "        'Return': Return,\n",
    "        \n",
    "    }     \n",
    "\n",
    "    return all_factors\n",
    "\n",
    "factors = make_factors()\n",
    "\n",
    "factors"
   ]
  },
  {
   "cell_type": "markdown",
   "metadata": {},
   "source": [
    "We import the **Pipeline** function from the [Quantopian Pipeline API](https://www.quantopian.com/tutorials/pipeline) that build a preprocesing filters from a dictionary of factors names and pointers."
   ]
  },
  {
   "cell_type": "code",
   "execution_count": 27,
   "metadata": {},
   "outputs": [],
   "source": [
    "from quantopian.pipeline import Pipeline"
   ]
  },
  {
   "cell_type": "markdown",
   "metadata": {},
   "source": [
    "We use the Pipeline to define the **make_history_pipeline()** that will produce the filter that will be applied to obtain build datafarem with the information of the input and target variables."
   ]
  },
  {
   "cell_type": "code",
   "execution_count": 47,
   "metadata": {},
   "outputs": [
    {
     "name": "stdout",
     "output_type": "stream",
     "text": [
      "{'Asset_Growth_3d': Returns([EquityPricing.close], 3), 'Return': Returns([EquityPricing<US>.open], 5), 'earning_yield': Latest([Fundamentals<US>.earning_yield], 1), 'Asset_Growth_4d': Returns([EquityPricing.close], 7), 'cash_return': Returns([EquityPricing.close], 2), 'Volume': Latest([EquityPricing<US>.volume], 1), 'Returns': Returns([EquityPricing<US>.open], 5), 'Asset_Growth_2d': Returns([EquityPricing.close], 3), 'value_score': Latest([Fundamentals<US>.value_score], 1), 'style_score': Latest([Fundamentals<US>.style_score], 1)}\n"
     ]
    },
    {
     "data": {
      "text/plain": [
       "<zipline.pipeline.pipeline.Pipeline at 0x7f3b3ec8f320>"
      ]
     },
     "execution_count": 47,
     "metadata": {},
     "output_type": "execute_result"
    }
   ],
   "source": [
    "from quantopian.pipeline.data.builtin import USEquityPricing\n",
    "\n",
    "\n",
    "def make_history_pipeline(factors, universe, n_fwd_days=5):\n",
    "    \n",
    "    # Build dictionary of factors names and definitions used to calculate the information of the input variables \n",
    "    factor_ranks = {name: f() for name, f in factors.iteritems()}\n",
    "    \n",
    "    # Add to the dictionary the factor name and definitios used to calculate the information of the target variable\n",
    "    factor_ranks['Returns'] = Returns(inputs=[USEquityPricing.open],window_length=n_fwd_days)\n",
    "    \n",
    "    print factor_ranks\n",
    "    \n",
    "    pipe = Pipeline(screen=universe, columns=factor_ranks)\n",
    "    \n",
    "    return pipe\n",
    "\n",
    "history_pipe = make_history_pipeline(factors, universe, n_fwd_days=n_fwd_days)\n",
    "\n",
    "history_pipe"
   ]
  },
  {
   "cell_type": "markdown",
   "metadata": {},
   "source": [
    "We import the **run_pipeline** function from the [Quantopian Pipeline API](https://www.quantopian.com/tutorials/pipeline) that receives a pipe, a star_date and end_date, and  builds data frame with the the information of the input and target variables in that period."
   ]
  },
  {
   "cell_type": "code",
   "execution_count": 48,
   "metadata": {},
   "outputs": [],
   "source": [
    "from quantopian.research import run_pipeline"
   ]
  },
  {
   "cell_type": "markdown",
   "metadata": {},
   "source": [
    "We call  **run_pipeline** with the history_pipe between to between the **start** and **end** dates."
   ]
  },
  {
   "cell_type": "code",
   "execution_count": 49,
   "metadata": {},
   "outputs": [
    {
     "data": {
      "application/vnd.jupyter.widget-view+json": {
       "model_id": "",
       "version_major": 2,
       "version_minor": 0
      },
      "text/plain": []
     },
     "metadata": {},
     "output_type": "display_data"
    },
    {
     "data": {
      "text/html": [
       "<b>Pipeline Execution Time:</b> 3.64 Seconds"
      ],
      "text/plain": [
       "<IPython.core.display.HTML object>"
      ]
     },
     "metadata": {},
     "output_type": "display_data"
    },
    {
     "name": "stdout",
     "output_type": "stream",
     "text": [
      "Time to run pipeline 5.36 secs\n"
     ]
    }
   ],
   "source": [
    "from time import time\n",
    "start_timer = time()\n",
    "results = run_pipeline(history_pipe, start_date=start, end_date=end)\n",
    "results.index.names = ['date', 'security']\n",
    "end_timer = time()\n",
    "print \"Time to run pipeline %.2f secs\" % (end_timer - start_timer)"
   ]
  },
  {
   "cell_type": "code",
   "execution_count": 50,
   "metadata": {},
   "outputs": [
    {
     "data": {
      "text/html": [
       "<div>\n",
       "<table border=\"1\" class=\"dataframe\">\n",
       "  <thead>\n",
       "    <tr style=\"text-align: right;\">\n",
       "      <th></th>\n",
       "      <th></th>\n",
       "      <th>Asset_Growth_2d</th>\n",
       "      <th>Asset_Growth_3d</th>\n",
       "      <th>Asset_Growth_4d</th>\n",
       "      <th>Return</th>\n",
       "      <th>Returns</th>\n",
       "      <th>Volume</th>\n",
       "      <th>cash_return</th>\n",
       "      <th>earning_yield</th>\n",
       "      <th>style_score</th>\n",
       "      <th>value_score</th>\n",
       "    </tr>\n",
       "    <tr>\n",
       "      <th>date</th>\n",
       "      <th>security</th>\n",
       "      <th></th>\n",
       "      <th></th>\n",
       "      <th></th>\n",
       "      <th></th>\n",
       "      <th></th>\n",
       "      <th></th>\n",
       "      <th></th>\n",
       "      <th></th>\n",
       "      <th></th>\n",
       "      <th></th>\n",
       "    </tr>\n",
       "  </thead>\n",
       "  <tbody>\n",
       "    <tr>\n",
       "      <th rowspan=\"5\" valign=\"top\">2018-05-29 00:00:00+00:00</th>\n",
       "      <th>Equity(2 [ARNC])</th>\n",
       "      <td>-0.010730</td>\n",
       "      <td>-0.010730</td>\n",
       "      <td>0.015419</td>\n",
       "      <td>0.015969</td>\n",
       "      <td>0.015969</td>\n",
       "      <td>2187936.0</td>\n",
       "      <td>-0.002704</td>\n",
       "      <td>-0.0364</td>\n",
       "      <td>142.9652</td>\n",
       "      <td>85.23033</td>\n",
       "    </tr>\n",
       "    <tr>\n",
       "      <th>Equity(24 [AAPL])</th>\n",
       "      <td>0.000690</td>\n",
       "      <td>0.000690</td>\n",
       "      <td>0.008449</td>\n",
       "      <td>0.001223</td>\n",
       "      <td>0.001223</td>\n",
       "      <td>13694693.0</td>\n",
       "      <td>0.001966</td>\n",
       "      <td>0.0550</td>\n",
       "      <td>142.2381</td>\n",
       "      <td>50.99591</td>\n",
       "    </tr>\n",
       "    <tr>\n",
       "      <th>Equity(41 [ARCB])</th>\n",
       "      <td>-0.003178</td>\n",
       "      <td>-0.003178</td>\n",
       "      <td>-0.026887</td>\n",
       "      <td>-0.007254</td>\n",
       "      <td>-0.007254</td>\n",
       "      <td>254283.0</td>\n",
       "      <td>-0.022845</td>\n",
       "      <td>0.0618</td>\n",
       "      <td>149.1617</td>\n",
       "      <td>66.49705</td>\n",
       "    </tr>\n",
       "    <tr>\n",
       "      <th>Equity(52 [ABM])</th>\n",
       "      <td>-0.005106</td>\n",
       "      <td>-0.005106</td>\n",
       "      <td>-0.029065</td>\n",
       "      <td>-0.025109</td>\n",
       "      <td>-0.025109</td>\n",
       "      <td>534606.0</td>\n",
       "      <td>0.000000</td>\n",
       "      <td>0.0503</td>\n",
       "      <td>134.2942</td>\n",
       "      <td>58.47851</td>\n",
       "    </tr>\n",
       "    <tr>\n",
       "      <th>Equity(53 [ABMD])</th>\n",
       "      <td>-0.004295</td>\n",
       "      <td>-0.004295</td>\n",
       "      <td>0.037600</td>\n",
       "      <td>0.024788</td>\n",
       "      <td>0.024788</td>\n",
       "      <td>259164.0</td>\n",
       "      <td>-0.001141</td>\n",
       "      <td>0.0062</td>\n",
       "      <td>471.4387</td>\n",
       "      <td>4.71541</td>\n",
       "    </tr>\n",
       "  </tbody>\n",
       "</table>\n",
       "</div>"
      ],
      "text/plain": [
       "                                             Asset_Growth_2d  Asset_Growth_3d  \\\n",
       "date                      security                                              \n",
       "2018-05-29 00:00:00+00:00 Equity(2 [ARNC])         -0.010730        -0.010730   \n",
       "                          Equity(24 [AAPL])         0.000690         0.000690   \n",
       "                          Equity(41 [ARCB])        -0.003178        -0.003178   \n",
       "                          Equity(52 [ABM])         -0.005106        -0.005106   \n",
       "                          Equity(53 [ABMD])        -0.004295        -0.004295   \n",
       "\n",
       "                                             Asset_Growth_4d    Return  \\\n",
       "date                      security                                       \n",
       "2018-05-29 00:00:00+00:00 Equity(2 [ARNC])          0.015419  0.015969   \n",
       "                          Equity(24 [AAPL])         0.008449  0.001223   \n",
       "                          Equity(41 [ARCB])        -0.026887 -0.007254   \n",
       "                          Equity(52 [ABM])         -0.029065 -0.025109   \n",
       "                          Equity(53 [ABMD])         0.037600  0.024788   \n",
       "\n",
       "                                              Returns      Volume  \\\n",
       "date                      security                                  \n",
       "2018-05-29 00:00:00+00:00 Equity(2 [ARNC])   0.015969   2187936.0   \n",
       "                          Equity(24 [AAPL])  0.001223  13694693.0   \n",
       "                          Equity(41 [ARCB]) -0.007254    254283.0   \n",
       "                          Equity(52 [ABM])  -0.025109    534606.0   \n",
       "                          Equity(53 [ABMD])  0.024788    259164.0   \n",
       "\n",
       "                                             cash_return  earning_yield  \\\n",
       "date                      security                                        \n",
       "2018-05-29 00:00:00+00:00 Equity(2 [ARNC])     -0.002704        -0.0364   \n",
       "                          Equity(24 [AAPL])     0.001966         0.0550   \n",
       "                          Equity(41 [ARCB])    -0.022845         0.0618   \n",
       "                          Equity(52 [ABM])      0.000000         0.0503   \n",
       "                          Equity(53 [ABMD])    -0.001141         0.0062   \n",
       "\n",
       "                                             style_score  value_score  \n",
       "date                      security                                     \n",
       "2018-05-29 00:00:00+00:00 Equity(2 [ARNC])      142.9652     85.23033  \n",
       "                          Equity(24 [AAPL])     142.2381     50.99591  \n",
       "                          Equity(41 [ARCB])     149.1617     66.49705  \n",
       "                          Equity(52 [ABM])      134.2942     58.47851  \n",
       "                          Equity(53 [ABMD])     471.4387      4.71541  "
      ]
     },
     "execution_count": 50,
     "metadata": {},
     "output_type": "execute_result"
    }
   ],
   "source": [
    "results.head()"
   ]
  },
  {
   "cell_type": "code",
   "execution_count": 51,
   "metadata": {},
   "outputs": [
    {
     "data": {
      "text/html": [
       "<div>\n",
       "<table border=\"1\" class=\"dataframe\">\n",
       "  <thead>\n",
       "    <tr style=\"text-align: right;\">\n",
       "      <th></th>\n",
       "      <th></th>\n",
       "      <th>Asset_Growth_2d</th>\n",
       "      <th>Asset_Growth_3d</th>\n",
       "      <th>Asset_Growth_4d</th>\n",
       "      <th>Return</th>\n",
       "      <th>Returns</th>\n",
       "      <th>Volume</th>\n",
       "      <th>cash_return</th>\n",
       "      <th>earning_yield</th>\n",
       "      <th>style_score</th>\n",
       "      <th>value_score</th>\n",
       "    </tr>\n",
       "    <tr>\n",
       "      <th>date</th>\n",
       "      <th>security</th>\n",
       "      <th></th>\n",
       "      <th></th>\n",
       "      <th></th>\n",
       "      <th></th>\n",
       "      <th></th>\n",
       "      <th></th>\n",
       "      <th></th>\n",
       "      <th></th>\n",
       "      <th></th>\n",
       "      <th></th>\n",
       "    </tr>\n",
       "  </thead>\n",
       "  <tbody>\n",
       "    <tr>\n",
       "      <th rowspan=\"5\" valign=\"top\">2018-09-26 00:00:00+00:00</th>\n",
       "      <th>Equity(51542 [DNLI])</th>\n",
       "      <td>0.011439</td>\n",
       "      <td>0.011439</td>\n",
       "      <td>0.133547</td>\n",
       "      <td>0.027330</td>\n",
       "      <td>0.027330</td>\n",
       "      <td>225525.0</td>\n",
       "      <td>0.020192</td>\n",
       "      <td>-0.1006</td>\n",
       "      <td>NaN</td>\n",
       "      <td>NaN</td>\n",
       "    </tr>\n",
       "    <tr>\n",
       "      <th>Equity(51576 [CASA])</th>\n",
       "      <td>-0.054904</td>\n",
       "      <td>-0.054904</td>\n",
       "      <td>-0.022336</td>\n",
       "      <td>-0.028894</td>\n",
       "      <td>-0.028894</td>\n",
       "      <td>562221.0</td>\n",
       "      <td>-0.009056</td>\n",
       "      <td>0.0470</td>\n",
       "      <td>NaN</td>\n",
       "      <td>NaN</td>\n",
       "    </tr>\n",
       "    <tr>\n",
       "      <th>Equity(51580 [NMRK])</th>\n",
       "      <td>-0.022065</td>\n",
       "      <td>-0.022065</td>\n",
       "      <td>-0.008057</td>\n",
       "      <td>0.051048</td>\n",
       "      <td>0.051048</td>\n",
       "      <td>298995.0</td>\n",
       "      <td>-0.036522</td>\n",
       "      <td>0.0342</td>\n",
       "      <td>339.0609</td>\n",
       "      <td>23.77479</td>\n",
       "    </tr>\n",
       "    <tr>\n",
       "      <th>Equity(51615 [LILA_K])</th>\n",
       "      <td>-0.008349</td>\n",
       "      <td>-0.008349</td>\n",
       "      <td>0.045477</td>\n",
       "      <td>0.034816</td>\n",
       "      <td>0.034816</td>\n",
       "      <td>245194.0</td>\n",
       "      <td>-0.004655</td>\n",
       "      <td>-0.2245</td>\n",
       "      <td>220.1531</td>\n",
       "      <td>67.83053</td>\n",
       "    </tr>\n",
       "    <tr>\n",
       "      <th>Equity(51618 [NTR])</th>\n",
       "      <td>0.008210</td>\n",
       "      <td>0.008210</td>\n",
       "      <td>-0.002247</td>\n",
       "      <td>-0.024098</td>\n",
       "      <td>-0.024098</td>\n",
       "      <td>1162055.0</td>\n",
       "      <td>0.014572</td>\n",
       "      <td>0.0225</td>\n",
       "      <td>117.1945</td>\n",
       "      <td>10.46960</td>\n",
       "    </tr>\n",
       "  </tbody>\n",
       "</table>\n",
       "</div>"
      ],
      "text/plain": [
       "                                                  Asset_Growth_2d  \\\n",
       "date                      security                                  \n",
       "2018-09-26 00:00:00+00:00 Equity(51542 [DNLI])           0.011439   \n",
       "                          Equity(51576 [CASA])          -0.054904   \n",
       "                          Equity(51580 [NMRK])          -0.022065   \n",
       "                          Equity(51615 [LILA_K])        -0.008349   \n",
       "                          Equity(51618 [NTR])            0.008210   \n",
       "\n",
       "                                                  Asset_Growth_3d  \\\n",
       "date                      security                                  \n",
       "2018-09-26 00:00:00+00:00 Equity(51542 [DNLI])           0.011439   \n",
       "                          Equity(51576 [CASA])          -0.054904   \n",
       "                          Equity(51580 [NMRK])          -0.022065   \n",
       "                          Equity(51615 [LILA_K])        -0.008349   \n",
       "                          Equity(51618 [NTR])            0.008210   \n",
       "\n",
       "                                                  Asset_Growth_4d    Return  \\\n",
       "date                      security                                            \n",
       "2018-09-26 00:00:00+00:00 Equity(51542 [DNLI])           0.133547  0.027330   \n",
       "                          Equity(51576 [CASA])          -0.022336 -0.028894   \n",
       "                          Equity(51580 [NMRK])          -0.008057  0.051048   \n",
       "                          Equity(51615 [LILA_K])         0.045477  0.034816   \n",
       "                          Equity(51618 [NTR])           -0.002247 -0.024098   \n",
       "\n",
       "                                                   Returns     Volume  \\\n",
       "date                      security                                      \n",
       "2018-09-26 00:00:00+00:00 Equity(51542 [DNLI])    0.027330   225525.0   \n",
       "                          Equity(51576 [CASA])   -0.028894   562221.0   \n",
       "                          Equity(51580 [NMRK])    0.051048   298995.0   \n",
       "                          Equity(51615 [LILA_K])  0.034816   245194.0   \n",
       "                          Equity(51618 [NTR])    -0.024098  1162055.0   \n",
       "\n",
       "                                                  cash_return  earning_yield  \\\n",
       "date                      security                                             \n",
       "2018-09-26 00:00:00+00:00 Equity(51542 [DNLI])       0.020192        -0.1006   \n",
       "                          Equity(51576 [CASA])      -0.009056         0.0470   \n",
       "                          Equity(51580 [NMRK])      -0.036522         0.0342   \n",
       "                          Equity(51615 [LILA_K])    -0.004655        -0.2245   \n",
       "                          Equity(51618 [NTR])        0.014572         0.0225   \n",
       "\n",
       "                                                  style_score  value_score  \n",
       "date                      security                                          \n",
       "2018-09-26 00:00:00+00:00 Equity(51542 [DNLI])            NaN          NaN  \n",
       "                          Equity(51576 [CASA])            NaN          NaN  \n",
       "                          Equity(51580 [NMRK])       339.0609     23.77479  \n",
       "                          Equity(51615 [LILA_K])     220.1531     67.83053  \n",
       "                          Equity(51618 [NTR])        117.1945     10.46960  "
      ]
     },
     "execution_count": 51,
     "metadata": {},
     "output_type": "execute_result"
    }
   ],
   "source": [
    "results.tail()"
   ]
  },
  {
   "cell_type": "markdown",
   "metadata": {},
   "source": [
    "We extract, shift,mask,recode and split the information for the **X_train and X_test  (input variables)** and the **Y_train and Y_test(target)** variable, using the information in the **results** dataframe.\n",
    "\n",
    "We split our data into **training** (80%) and testing (20%)."
   ]
  },
  {
   "cell_type": "code",
   "execution_count": 52,
   "metadata": {},
   "outputs": [],
   "source": [
    "import numpy as np\n",
    "\n",
    "training = 0.8"
   ]
  },
  {
   "cell_type": "code",
   "execution_count": 53,
   "metadata": {},
   "outputs": [],
   "source": [
    "results_wo_returns = results.copy()\n",
    "returns = results_wo_returns.pop('Returns')\n",
    "Y = returns.unstack().values\n",
    "X = results_wo_returns.to_panel() \n",
    "X = X.swapaxes(2, 0).swapaxes(0, 1).values # (factors, time, stocks) -> (time, stocks, factors)"
   ]
  },
  {
   "cell_type": "code",
   "execution_count": 54,
   "metadata": {},
   "outputs": [],
   "source": [
    "n_time, n_stocks, n_factors = X.shape\n",
    "train_size = np.int16(np.round(training * n_time))\n",
    "X_train_aux, Y_train_aux = X[:train_size, ...], Y[:train_size]\n",
    "X_test_aux, Y_test_aux = X[(train_size+n_fwd_days):, ...], Y[(train_size+n_fwd_days):]"
   ]
  },
  {
   "cell_type": "markdown",
   "metadata": {},
   "source": [
    "We check how many **(days, stocks, varaibles)**  we have in the training set before fitering nans"
   ]
  },
  {
   "cell_type": "code",
   "execution_count": 55,
   "metadata": {},
   "outputs": [
    {
     "name": "stdout",
     "output_type": "stream",
     "text": [
      "(68, 9562, 9) 650216\n"
     ]
    }
   ],
   "source": [
    "n_time, n_stocks, n_factors = X_train_aux.shape\n",
    "print X_train_aux.shape, n_time* n_stocks"
   ]
  },
  {
   "cell_type": "markdown",
   "metadata": {},
   "source": [
    "We check how many **(days, stocks, varaibles)** we have in the testing set before fitering nans"
   ]
  },
  {
   "cell_type": "code",
   "execution_count": 56,
   "metadata": {},
   "outputs": [
    {
     "name": "stdout",
     "output_type": "stream",
     "text": [
      "(12, 9562, 9) 114744\n"
     ]
    }
   ],
   "source": [
    "n_time, n_stocks, n_factors = X_test_aux.shape\n",
    "print X_test_aux.shape, n_time* n_stocks"
   ]
  },
  {
   "cell_type": "markdown",
   "metadata": {},
   "source": [
    "We crate a helper function **shift_recode_mask_data ()** that \n",
    "\n",
    "* Shift factors (input variables - returns) to align these with the future target (return n_fwd_days days ahead).\n",
    "* Recode the target Y as 1 and -1\n",
    "* Eliminates examples thathave nan values or are not in the classes 1 and -1"
   ]
  },
  {
   "cell_type": "code",
   "execution_count": 57,
   "metadata": {},
   "outputs": [],
   "source": [
    "def shift_recode_mask_data(X, Y, upper_percentile=100-percentile, lower_percentile=percentile, n_fwd_days=1):\n",
    "    # Shift X to match factors at t to returns at t+n_fwd_days (we want to predict future returns after all)\n",
    "    shifted_X = np.roll(X, n_fwd_days+1, axis=0)\n",
    "    \n",
    "    # Slice off rolled elements\n",
    "    X = shifted_X[n_fwd_days+1:]\n",
    "    Y = Y[n_fwd_days+1:]\n",
    "    \n",
    "    n_time, n_stocks, n_factors = X.shape\n",
    "    \n",
    "    # Look for biggest up and down movers\n",
    "    upper = np.nanpercentile(Y, upper_percentile, axis=1)[:, np.newaxis]\n",
    "    lower = np.nanpercentile(Y, lower_percentile, axis=1)[:, np.newaxis]\n",
    "  \n",
    "    upper_mask = (Y >= upper)\n",
    "    lower_mask = (Y <= lower)\n",
    "    \n",
    "    mask = upper_mask | lower_mask # This also drops nans\n",
    "    mask = mask.flatten()\n",
    "    \n",
    "    # Only try to predict whether a stock moved up/down relative to other stocks\n",
    "    Y_binary = np.zeros(n_time * n_stocks)\n",
    "    Y_binary[upper_mask.flatten()] = 1\n",
    "    Y_binary[lower_mask.flatten()] = -1\n",
    "    \n",
    "    # Flatten X\n",
    "    X = X.reshape((n_time * n_stocks, n_factors))\n",
    "\n",
    "    # Drop stocks that did not move much (i.e. are not in the upper_percentile or the lower_percentile )\n",
    "    X = X[mask]\n",
    "    Y_binary = Y_binary[mask]\n",
    "    \n",
    "    # Drop stocks with nan returns\n",
    "    masknan=  ~np.isnan(X).any(axis=1)\n",
    "    X = X[masknan]\n",
    "    Y_binary = Y_binary[masknan]\n",
    "    \n",
    "    return X, Y_binary"
   ]
  },
  {
   "cell_type": "code",
   "execution_count": 58,
   "metadata": {},
   "outputs": [
    {
     "name": "stderr",
     "output_type": "stream",
     "text": [
      "/venvs/py27/lib/python2.7/site-packages/ipykernel_launcher.py:23: VisibleDeprecationWarning: boolean index did not match indexed array along dimension 0; dimension is 592844 but corresponding boolean dimension is 142166\n",
      "/venvs/py27/lib/python2.7/site-packages/ipykernel_launcher.py:24: VisibleDeprecationWarning: boolean index did not match indexed array along dimension 0; dimension is 592844 but corresponding boolean dimension is 142166\n",
      "/venvs/py27/lib/python2.7/site-packages/ipykernel_launcher.py:30: VisibleDeprecationWarning: boolean index did not match indexed array along dimension 0; dimension is 592844 but corresponding boolean dimension is 142166\n",
      "/venvs/py27/lib/python2.7/site-packages/ipykernel_launcher.py:31: VisibleDeprecationWarning: boolean index did not match indexed array along dimension 0; dimension is 592844 but corresponding boolean dimension is 142166\n",
      "/venvs/py27/lib/python2.7/site-packages/ipykernel_launcher.py:23: VisibleDeprecationWarning: boolean index did not match indexed array along dimension 0; dimension is 57372 but corresponding boolean dimension is 13758\n",
      "/venvs/py27/lib/python2.7/site-packages/ipykernel_launcher.py:24: VisibleDeprecationWarning: boolean index did not match indexed array along dimension 0; dimension is 57372 but corresponding boolean dimension is 13758\n",
      "/venvs/py27/lib/python2.7/site-packages/ipykernel_launcher.py:30: VisibleDeprecationWarning: boolean index did not match indexed array along dimension 0; dimension is 57372 but corresponding boolean dimension is 13758\n",
      "/venvs/py27/lib/python2.7/site-packages/ipykernel_launcher.py:31: VisibleDeprecationWarning: boolean index did not match indexed array along dimension 0; dimension is 57372 but corresponding boolean dimension is 13758\n"
     ]
    }
   ],
   "source": [
    "X_train, Y_train = shift_recode_mask_data(X_train_aux, Y_train_aux, n_fwd_days=n_fwd_days)\n",
    "X_test, Y_test = shift_recode_mask_data(X_test_aux, Y_test_aux, n_fwd_days=n_fwd_days, \n",
    "                                             lower_percentile=50, \n",
    "                                             upper_percentile=50)"
   ]
  },
  {
   "cell_type": "markdown",
   "metadata": {},
   "source": [
    "We check how many examples we have in the traning and  testing set after applying shift_recode_mask_data ()"
   ]
  },
  {
   "cell_type": "code",
   "execution_count": 59,
   "metadata": {},
   "outputs": [
    {
     "data": {
      "text/plain": [
       "((15184, 9), (3472, 9))"
      ]
     },
     "execution_count": 59,
     "metadata": {},
     "output_type": "execute_result"
    }
   ],
   "source": [
    "X_train.shape, X_test.shape"
   ]
  },
  {
   "cell_type": "markdown",
   "metadata": {},
   "source": [
    "## Explore the data visualy"
   ]
  },
  {
   "cell_type": "code",
   "execution_count": 60,
   "metadata": {},
   "outputs": [],
   "source": [
    "import matplotlib.pyplot as plt\n",
    "\n",
    "X = X_train\n",
    "Y = Y_train\n",
    "\n",
    "color = [] \n",
    "for i in range(len(Y)):\n",
    "    if Y[i] == 1:\n",
    "        color.append('green')\n",
    "    else:\n",
    "        color.append('red')\n",
    "        \n"
   ]
  },
  {
   "cell_type": "code",
   "execution_count": 61,
   "metadata": {
    "scrolled": true
   },
   "outputs": [
    {
     "ename": "IndexError",
     "evalue": "index 9 is out of bounds for axis 1 with size 9",
     "output_type": "error",
     "traceback": [
      "\u001b[0;31m\u001b[0m",
      "\u001b[0;31mIndexError\u001b[0mTraceback (most recent call last)",
      "\u001b[0;32m<ipython-input-61-c24a2b713d2b>\u001b[0m in \u001b[0;36m<module>\u001b[0;34m()\u001b[0m\n\u001b[1;32m     40\u001b[0m \u001b[0;34m\u001b[0m\u001b[0m\n\u001b[1;32m     41\u001b[0m \u001b[0mplt\u001b[0m\u001b[0;34m.\u001b[0m\u001b[0msubplot\u001b[0m\u001b[0;34m(\u001b[0m\u001b[0;36m3\u001b[0m\u001b[0;34m,\u001b[0m \u001b[0;36m3\u001b[0m\u001b[0;34m,\u001b[0m \u001b[0;36m9\u001b[0m\u001b[0;34m)\u001b[0m\u001b[0;34m\u001b[0m\u001b[0m\n\u001b[0;32m---> 42\u001b[0;31m \u001b[0mplt\u001b[0m\u001b[0;34m.\u001b[0m\u001b[0mscatter\u001b[0m\u001b[0;34m(\u001b[0m\u001b[0mX\u001b[0m\u001b[0;34m[\u001b[0m\u001b[0;34m:\u001b[0m\u001b[0;34m,\u001b[0m \u001b[0;36m0\u001b[0m\u001b[0;34m]\u001b[0m\u001b[0;34m,\u001b[0m \u001b[0mX\u001b[0m\u001b[0;34m[\u001b[0m\u001b[0;34m:\u001b[0m\u001b[0;34m,\u001b[0m \u001b[0;36m9\u001b[0m\u001b[0;34m]\u001b[0m\u001b[0;34m,\u001b[0m \u001b[0mc\u001b[0m\u001b[0;34m=\u001b[0m\u001b[0mcolor\u001b[0m\u001b[0;34m,\u001b[0m \u001b[0malpha\u001b[0m\u001b[0;34m=\u001b[0m \u001b[0;36m0.6\u001b[0m\u001b[0;34m,\u001b[0m \u001b[0ms\u001b[0m\u001b[0;34m=\u001b[0m\u001b[0;36m10\u001b[0m\u001b[0;34m,\u001b[0m \u001b[0medgecolor\u001b[0m\u001b[0;34m=\u001b[0m\u001b[0;34m'k'\u001b[0m\u001b[0;34m)\u001b[0m\u001b[0;34m\u001b[0m\u001b[0m\n\u001b[0m\u001b[1;32m     43\u001b[0m \u001b[0mplt\u001b[0m\u001b[0;34m.\u001b[0m\u001b[0mxlabel\u001b[0m\u001b[0;34m(\u001b[0m\u001b[0;34m'Asset Growth 10d'\u001b[0m\u001b[0;34m)\u001b[0m\u001b[0;34m\u001b[0m\u001b[0m\n\u001b[1;32m     44\u001b[0m \u001b[0mplt\u001b[0m\u001b[0;34m.\u001b[0m\u001b[0mylabel\u001b[0m\u001b[0;34m(\u001b[0m\u001b[0;34m'Asset Growth 9d'\u001b[0m\u001b[0;34m)\u001b[0m\u001b[0;34m\u001b[0m\u001b[0m\n",
      "\u001b[0;31mIndexError\u001b[0m: index 9 is out of bounds for axis 1 with size 9"
     ]
    },
    {
     "data": {
      "image/png": "[encoded data removed]",
      "text/plain": [
       "<matplotlib.figure.Figure at 0x7f3b34066550>"
      ]
     },
     "metadata": {},
     "output_type": "display_data"
    }
   ],
   "source": [
    "plt.subplot(3, 3, 1)\n",
    "plt.scatter(X[:, 0], X[:, 1], c=color, alpha= 0.6, s=10, edgecolor='k') \n",
    "plt.xlabel('Asset Growth 10d')\n",
    "plt.ylabel('Asset Growth 1d')\n",
    "\n",
    "plt.subplot(3, 3, 2)\n",
    "plt.scatter(X[:, 0], X[:, 2], c=color, alpha= 0.6, s=10, edgecolor='k')  \n",
    "plt.xlabel('Asset Growth 10d')\n",
    "plt.ylabel('Asset Growth 2d')\n",
    "\n",
    "plt.subplot(3, 3, 3)\n",
    "plt.scatter(X[:, 0], X[:, 3], c=color, alpha= 0.6, s=10, edgecolor='k') \n",
    "plt.xlabel('Asset Growth 10d')\n",
    "plt.ylabel('Asset Growth 3d')\n",
    "\n",
    "plt.subplot(3, 3, 4)\n",
    "plt.scatter(X[:, 0], X[:, 4], c=color, alpha= 0.6, s=10, edgecolor='k') \n",
    "plt.xlabel('Asset Growth 10d')\n",
    "plt.ylabel('Asset Growth 4d')\n",
    "\n",
    "plt.subplot(3, 3, 5)\n",
    "plt.scatter(X[:, 0], X[:, 5], c=color, alpha= 0.6, s=10, edgecolor='k') \n",
    "plt.xlabel('Asset Growth 10d')\n",
    "plt.ylabel('Asset Growth 5d')\n",
    "\n",
    "plt.subplot(3, 3, 6)\n",
    "plt.scatter(X[:, 0], X[:, 6], c=color, alpha= 0.6, s=10, edgecolor='k') \n",
    "plt.xlabel('Asset Growth 10d')\n",
    "plt.ylabel('Asset Growth 6d')\n",
    "\n",
    "plt.subplot(3, 3, 7)\n",
    "plt.scatter(X[:, 0], X[:, 7], c=color, alpha= 0.6, s=10, edgecolor='k')  \n",
    "plt.xlabel('Asset Growth 10d')\n",
    "plt.ylabel('Asset Growth 7d')\n",
    "\n",
    "plt.subplot(3, 3, 8)\n",
    "plt.scatter(X[:, 0], X[:, 8], c=color, alpha= 0.6, s=10, edgecolor='k') \n",
    "plt.xlabel('Asset Growth 10d')\n",
    "plt.ylabel('Asset Growth 8d')\n",
    "\n",
    "plt.subplot(3, 3, 9)\n",
    "plt.scatter(X[:, 0], X[:, 9], c=color, alpha= 0.6, s=10, edgecolor='k') \n",
    "plt.xlabel('Asset Growth 10d')\n",
    "plt.ylabel('Asset Growth 9d')"
   ]
  },
  {
   "cell_type": "code",
   "execution_count": null,
   "metadata": {},
   "outputs": [],
   "source": [
    "x = X[:,0]\n",
    "\n",
    "mask = (Y == 1)\n",
    "xg = x[mask]\n",
    "\n",
    "mask = (Y == -1)\n",
    "xr = x[mask]\n",
    "\n",
    "xlim = (-2, 2)\n",
    "bins = np.linspace(xlim[0], xlim[1], 200)\n",
    "\n",
    "plt.hist(xr, bins, alpha=0.6,  histtype='stepfilled', label='red',  color='red')\n",
    "plt.hist(xg, bins, alpha=0.6,  histtype='stepfilled', label='green', color='green' )\n",
    "plt.legend(loc='upper right')\n",
    "plt.xlabel('Asset Growth 10d')\n",
    "plt.ylabel('Probability by class ')\n",
    "plt.show()"
   ]
  },
  {
   "cell_type": "code",
   "execution_count": null,
   "metadata": {},
   "outputs": [],
   "source": [
    "import pandas as pd\n",
    "labels = ['Asset Growth 10d',\n",
    "          'Asset Growth 1d',\n",
    "          'Asset Growth 2d',\n",
    "          'Asset Growth 3d',\n",
    "          'Asset Growth 4d',\n",
    "          'Asset Growth 5d',\n",
    "          'Asset Growth 6d',\n",
    "          'Asset Growth 7d',\n",
    "          'Asset Growth 8d',\n",
    "          'Asset Growth 9d']      \n",
    "df = pd.DataFrame(X_train, columns=labels)\n",
    "df['target'] = Y_train\n",
    "df.sample(20)"
   ]
  },
  {
   "cell_type": "code",
   "execution_count": null,
   "metadata": {},
   "outputs": [],
   "source": [
    "import seaborn as sns\n",
    "sns.set()\n",
    "palette = ['#FF0000','#00FF00']\n",
    "sns.set_palette(palette)\n",
    "sns.pairplot(df, vars=labels,  hue='target', diag_kind = 'kde', plot_kws = {'alpha': 0.6, 's': 10, 'edgecolor': 'k'});"
   ]
  },
  {
   "cell_type": "markdown",
   "metadata": {},
   "source": [
    "## Train the Gaussian Naive Bayes model"
   ]
  },
  {
   "cell_type": "code",
   "execution_count": 62,
   "metadata": {},
   "outputs": [],
   "source": [
    "start_timer = time()\n",
    "\n",
    "# Train classifier\n",
    "#from sklearn.naive_bayes import GaussianNB\n",
    "from sklearn.tree import DecisionTreeClassifier\n",
    "clf = DecisionTreeClassifier()\n",
    "clf.fit(X_train, Y_train);\n",
    "\n",
    "end_timer = time()"
   ]
  },
  {
   "cell_type": "code",
   "execution_count": 63,
   "metadata": {},
   "outputs": [
    {
     "name": "stdout",
     "output_type": "stream",
     "text": [
      "Time to train : 0.33 secs\n"
     ]
    }
   ],
   "source": [
    "print \"Time to train : %0.2f secs\" % (end_timer - start_timer)"
   ]
  },
  {
   "cell_type": "code",
   "execution_count": 64,
   "metadata": {},
   "outputs": [
    {
     "name": "stdout",
     "output_type": "stream",
     "text": [
      "Accuracy on train set = 100.00%\n"
     ]
    }
   ],
   "source": [
    "from sklearn import metrics\n",
    "\n",
    "Y_pred = clf.predict(X_train)\n",
    "print('Accuracy on train set = {:.2f}%'.format(metrics.accuracy_score(Y_train, Y_pred) * 100))"
   ]
  },
  {
   "cell_type": "code",
   "execution_count": 65,
   "metadata": {},
   "outputs": [],
   "source": [
    "# Predict!\n",
    "Y_pred = clf.predict(X_test)\n",
    "\n",
    "Y_pred_prob = clf.predict_proba(X_test)"
   ]
  },
  {
   "cell_type": "code",
   "execution_count": 66,
   "metadata": {},
   "outputs": [
    {
     "name": "stdout",
     "output_type": "stream",
     "text": [
      "Predictions: [-1. -1. -1. ...,  1. -1. -1.]\n",
      "Probabilities of class == 1: [   0.    0.    0. ...,  100.    0.    0.]\n"
     ]
    }
   ],
   "source": [
    "print 'Predictions:', Y_pred\n",
    "print 'Probabilities of class == 1:', Y_pred_prob[:, 1] * 100"
   ]
  },
  {
   "cell_type": "code",
   "execution_count": 68,
   "metadata": {},
   "outputs": [
    {
     "name": "stdout",
     "output_type": "stream",
     "text": [
      "Accuracy on test set = 51.64%\n",
      "Log-loss = 16.70236\n"
     ]
    }
   ],
   "source": [
    "print('Accuracy on test set = {:.2f}%'.format(metrics.accuracy_score(Y_test, Y_pred) * 100))\n",
    "print('Log-loss = {:.5f}'.format(metrics.log_loss(Y_test, Y_pred_prob)))"
   ]
  },
  {
   "cell_type": "code",
   "execution_count": null,
   "metadata": {},
   "outputs": [],
   "source": []
  }
 ],
 "metadata": {
  "kernelspec": {
   "display_name": "Python 2.7 (deprecated)",
   "language": "python",
   "name": "python2"
  },
  "language_info": {
   "codemirror_mode": {
    "name": "ipython",
    "version": 2
   },
   "file_extension": ".py",
   "mimetype": "text/x-python",
   "name": "python",
   "nbconvert_exporter": "python",
   "pygments_lexer": "ipython2",
   "version": "2.7.17"
  }
 },
 "nbformat": 4,
 "nbformat_minor": 2
}